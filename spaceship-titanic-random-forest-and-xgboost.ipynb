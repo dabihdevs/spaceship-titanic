{
 "cells": [
  {
   "cell_type": "code",
   "execution_count": 1,
   "id": "3b115e0d",
   "metadata": {
    "_cell_guid": "b1076dfc-b9ad-4769-8c92-a6c4dae69d19",
    "_uuid": "8f2839f25d086af736a60e9eeb907d3b93b6e0e5",
    "execution": {
     "iopub.execute_input": "2024-01-03T16:04:13.435090Z",
     "iopub.status.busy": "2024-01-03T16:04:13.434739Z",
     "iopub.status.idle": "2024-01-03T16:04:15.427688Z",
     "shell.execute_reply": "2024-01-03T16:04:15.426592Z"
    },
    "papermill": {
     "duration": 2.000464,
     "end_time": "2024-01-03T16:04:15.430054",
     "exception": false,
     "start_time": "2024-01-03T16:04:13.429590",
     "status": "completed"
    },
    "tags": []
   },
   "outputs": [
    {
     "name": "stdout",
     "output_type": "stream",
     "text": [
      "/kaggle/input/spaceship-titanic/sample_submission.csv\n",
      "/kaggle/input/spaceship-titanic/train.csv\n",
      "/kaggle/input/spaceship-titanic/test.csv\n"
     ]
    },
    {
     "name": "stderr",
     "output_type": "stream",
     "text": [
      "/opt/conda/lib/python3.10/site-packages/scipy/__init__.py:146: UserWarning: A NumPy version >=1.16.5 and <1.23.0 is required for this version of SciPy (detected version 1.23.5\n",
      "  warnings.warn(f\"A NumPy version >={np_minversion} and <{np_maxversion}\"\n"
     ]
    }
   ],
   "source": [
    "# This Python 3 environment comes with many helpful analytics libraries installed\n",
    "# It is defined by the kaggle/python Docker image: https://github.com/kaggle/docker-python\n",
    "# For example, here's several helpful packages to load\n",
    "\n",
    "import numpy as np # linear algebra\n",
    "import pandas as pd # data processing, CSV file I/O (e.g. pd.read_csv)\n",
    "\n",
    "# Input data files are available in the read-only \"../input/\" directory\n",
    "# For example, running this (by clicking run or pressing Shift+Enter) will list all files under the input directory\n",
    "\n",
    "import os\n",
    "for dirname, _, filenames in os.walk('/kaggle/input'):\n",
    "    for filename in filenames:\n",
    "        print(os.path.join(dirname, filename))\n",
    "\n",
    "# You can write up to 20GB to the current directory (/kaggle/working/) that gets preserved as output when you create a version using \"Save & Run All\" \n",
    "# You can also write temporary files to /kaggle/temp/, but they won't be saved outside of the current session\n",
    "\n",
    "# Plotting libraries\n",
    "import seaborn as sns\n",
    "\n",
    "# ML libraries\n",
    "from sklearn.compose import ColumnTransformer\n",
    "from sklearn.pipeline import Pipeline\n",
    "from sklearn.impute import SimpleImputer\n",
    "from sklearn.preprocessing import OneHotEncoder\n",
    "from sklearn.model_selection import train_test_split\n",
    "\n",
    "from sklearn.ensemble import RandomForestClassifier\n",
    "from xgboost import XGBClassifier\n",
    "from sklearn.model_selection import cross_val_score, GridSearchCV\n",
    "\n",
    "# Unable warnings\n",
    "import warnings\n",
    "warnings.filterwarnings(\"ignore\")"
   ]
  },
  {
   "cell_type": "markdown",
   "id": "8e3a228f",
   "metadata": {
    "papermill": {
     "duration": 0.003067,
     "end_time": "2024-01-03T16:04:15.437042",
     "exception": false,
     "start_time": "2024-01-03T16:04:15.433975",
     "status": "completed"
    },
    "tags": []
   },
   "source": [
    "## Import data"
   ]
  },
  {
   "cell_type": "code",
   "execution_count": 2,
   "id": "52358330",
   "metadata": {
    "execution": {
     "iopub.execute_input": "2024-01-03T16:04:15.444998Z",
     "iopub.status.busy": "2024-01-03T16:04:15.444681Z",
     "iopub.status.idle": "2024-01-03T16:04:15.539104Z",
     "shell.execute_reply": "2024-01-03T16:04:15.537851Z"
    },
    "papermill": {
     "duration": 0.101223,
     "end_time": "2024-01-03T16:04:15.541468",
     "exception": false,
     "start_time": "2024-01-03T16:04:15.440245",
     "status": "completed"
    },
    "tags": []
   },
   "outputs": [],
   "source": [
    "# Import training data\n",
    "input_folder = '/kaggle/input/spaceship-titanic/'\n",
    "train_data = pd.read_csv(input_folder+'train.csv')\n",
    "\n",
    "# Select categorical columns\n",
    "categorical_cols = [cname for cname in train_data.columns\n",
    "                    if train_data[cname].nunique() < 4 and train_data[cname].dtype == \"object\"]\n",
    "\n",
    "# Select numerical columns\n",
    "numerical_cols = [cname for cname in train_data.columns\n",
    "                  if train_data[cname].dtype in ['int64', 'float64']]\n",
    "\n",
    "# Import test data\n",
    "test_data = pd.read_csv(input_folder+'test.csv')"
   ]
  },
  {
   "cell_type": "markdown",
   "id": "b0545f9b",
   "metadata": {
    "papermill": {
     "duration": 0.003149,
     "end_time": "2024-01-03T16:04:15.548303",
     "exception": false,
     "start_time": "2024-01-03T16:04:15.545154",
     "status": "completed"
    },
    "tags": []
   },
   "source": [
    "## Preprocessing"
   ]
  },
  {
   "cell_type": "code",
   "execution_count": 3,
   "id": "b9fd05ac",
   "metadata": {
    "execution": {
     "iopub.execute_input": "2024-01-03T16:04:15.556357Z",
     "iopub.status.busy": "2024-01-03T16:04:15.556018Z",
     "iopub.status.idle": "2024-01-03T16:04:15.561969Z",
     "shell.execute_reply": "2024-01-03T16:04:15.561005Z"
    },
    "papermill": {
     "duration": 0.011956,
     "end_time": "2024-01-03T16:04:15.563490",
     "exception": false,
     "start_time": "2024-01-03T16:04:15.551534",
     "status": "completed"
    },
    "tags": []
   },
   "outputs": [],
   "source": [
    "# Preprocessing\n",
    "# -----------------------------------------------------------------------------\n",
    "\n",
    "# Define function to clean the data\n",
    "def data_cleaner(data):\n",
    "    # Drop unneeded columns\n",
    "    clean_data = data.drop(['PassengerId', 'Cabin', 'Name'], axis=1)\n",
    "    \n",
    "    return clean_data\n",
    "\n",
    "# Fill missing values in numerical columns\n",
    "numerical_transformer = SimpleImputer(strategy='constant',)\n",
    "\n",
    "# Convert categorical data\n",
    "categorical_transformer = Pipeline(steps=[\n",
    "    ('imputer', SimpleImputer(strategy='most_frequent')),\n",
    "    ('onehot', OneHotEncoder(handle_unknown='ignore', sparse=False))\n",
    "])\n",
    "\n",
    "# Bundle preprocessing for numerical and categorical data\n",
    "preprocessor = ColumnTransformer(\n",
    "    transformers=[\n",
    "        ('num', numerical_transformer, numerical_cols),\n",
    "        ('cat', categorical_transformer, categorical_cols)\n",
    "    ])"
   ]
  },
  {
   "cell_type": "markdown",
   "id": "16469834",
   "metadata": {
    "execution": {
     "iopub.execute_input": "2023-05-07T08:29:12.695915Z",
     "iopub.status.busy": "2023-05-07T08:29:12.695500Z",
     "iopub.status.idle": "2023-05-07T08:29:12.704992Z",
     "shell.execute_reply": "2023-05-07T08:29:12.703442Z",
     "shell.execute_reply.started": "2023-05-07T08:29:12.695883Z"
    },
    "papermill": {
     "duration": 0.003877,
     "end_time": "2024-01-03T16:04:15.570759",
     "exception": false,
     "start_time": "2024-01-03T16:04:15.566882",
     "status": "completed"
    },
    "tags": []
   },
   "source": [
    "## Craft a Random Forest model"
   ]
  },
  {
   "cell_type": "code",
   "execution_count": 4,
   "id": "6013aab2",
   "metadata": {
    "execution": {
     "iopub.execute_input": "2024-01-03T16:04:15.579436Z",
     "iopub.status.busy": "2024-01-03T16:04:15.578270Z",
     "iopub.status.idle": "2024-01-03T16:04:15.583020Z",
     "shell.execute_reply": "2024-01-03T16:04:15.582401Z"
    },
    "papermill": {
     "duration": 0.010563,
     "end_time": "2024-01-03T16:04:15.584578",
     "exception": false,
     "start_time": "2024-01-03T16:04:15.574015",
     "status": "completed"
    },
    "tags": []
   },
   "outputs": [],
   "source": [
    "# Random Forest model\n",
    "model_rf = RandomForestClassifier(min_samples_leaf=6,\n",
    "                                  random_state=1)\n",
    "\n",
    "# Bundle preprocessing and modeling code in a pipeline\n",
    "my_pipeline = Pipeline(steps=[('preprocessor', preprocessor),\n",
    "                              ('model', model_rf)\n",
    "                             ])"
   ]
  },
  {
   "cell_type": "markdown",
   "id": "df80ace0",
   "metadata": {
    "papermill": {
     "duration": 0.003001,
     "end_time": "2024-01-03T16:04:15.590777",
     "exception": false,
     "start_time": "2024-01-03T16:04:15.587776",
     "status": "completed"
    },
    "tags": []
   },
   "source": [
    "## Train and evaluate the model"
   ]
  },
  {
   "cell_type": "code",
   "execution_count": 5,
   "id": "d3e0371f",
   "metadata": {
    "execution": {
     "iopub.execute_input": "2024-01-03T16:04:15.599395Z",
     "iopub.status.busy": "2024-01-03T16:04:15.599011Z",
     "iopub.status.idle": "2024-01-03T16:04:20.220320Z",
     "shell.execute_reply": "2024-01-03T16:04:20.218771Z"
    },
    "papermill": {
     "duration": 4.629264,
     "end_time": "2024-01-03T16:04:20.223791",
     "exception": false,
     "start_time": "2024-01-03T16:04:15.594527",
     "status": "completed"
    },
    "tags": []
   },
   "outputs": [
    {
     "name": "stdout",
     "output_type": "stream",
     "text": [
      "0.7963899996757524 0.008211727071588144\n"
     ]
    }
   ],
   "source": [
    "# Clean the data\n",
    "clean_data = data_cleaner(train_data)\n",
    "\n",
    "# Select X and y\n",
    "X = clean_data.drop(['Transported'], axis=1)\n",
    "y = clean_data[['Transported']]\n",
    "\n",
    "# Preprocessing of training data, fit model \n",
    "my_pipeline.fit(X, y)\n",
    "\n",
    "# Evaluate the model\n",
    "cv_score = cross_val_score(my_pipeline, X, y, cv=5, scoring='accuracy')\n",
    "print(cv_score.mean(), cv_score.std())"
   ]
  },
  {
   "cell_type": "markdown",
   "id": "3cfe6b12",
   "metadata": {
    "papermill": {
     "duration": 0.003364,
     "end_time": "2024-01-03T16:04:20.231265",
     "exception": false,
     "start_time": "2024-01-03T16:04:20.227901",
     "status": "completed"
    },
    "tags": []
   },
   "source": [
    "## Use XGBoost"
   ]
  },
  {
   "cell_type": "code",
   "execution_count": 6,
   "id": "def3e1d1",
   "metadata": {
    "execution": {
     "iopub.execute_input": "2024-01-03T16:04:20.240812Z",
     "iopub.status.busy": "2024-01-03T16:04:20.240471Z",
     "iopub.status.idle": "2024-01-03T16:04:25.142004Z",
     "shell.execute_reply": "2024-01-03T16:04:25.140884Z"
    },
    "papermill": {
     "duration": 4.908494,
     "end_time": "2024-01-03T16:04:25.143768",
     "exception": false,
     "start_time": "2024-01-03T16:04:20.235274",
     "status": "completed"
    },
    "tags": []
   },
   "outputs": [
    {
     "name": "stdout",
     "output_type": "stream",
     "text": [
      "0.794549266108652 0.007160492511655999\n"
     ]
    }
   ],
   "source": [
    "# XGboost model\n",
    "model_xgb = XGBClassifier(n_estimators=200, learning_rate=0.05, n_jobs=4,\n",
    "                         random_state=1)\n",
    "\n",
    "# New pipeline with XGBoost\n",
    "xg_pipeline = Pipeline(steps=[('preprocessor', preprocessor),\n",
    "                              ('model', model_xgb)\n",
    "                             ]) \n",
    "\n",
    "# Fit model\n",
    "xg_pipeline.fit(X, y)\n",
    "\n",
    "# Evaluate the model\n",
    "cv_score_xg = cross_val_score(xg_pipeline, X, y, cv=5, scoring='accuracy')\n",
    "print(cv_score_xg.mean(), cv_score_xg.std())"
   ]
  },
  {
   "cell_type": "markdown",
   "id": "10e7d3d8",
   "metadata": {
    "papermill": {
     "duration": 0.003177,
     "end_time": "2024-01-03T16:04:25.150579",
     "exception": false,
     "start_time": "2024-01-03T16:04:25.147402",
     "status": "completed"
    },
    "tags": []
   },
   "source": [
    "## Make and store prediction"
   ]
  },
  {
   "cell_type": "code",
   "execution_count": 7,
   "id": "5b02c11b",
   "metadata": {
    "execution": {
     "iopub.execute_input": "2024-01-03T16:04:25.159451Z",
     "iopub.status.busy": "2024-01-03T16:04:25.158440Z",
     "iopub.status.idle": "2024-01-03T16:04:25.192927Z",
     "shell.execute_reply": "2024-01-03T16:04:25.191542Z"
    },
    "papermill": {
     "duration": 0.041404,
     "end_time": "2024-01-03T16:04:25.195356",
     "exception": false,
     "start_time": "2024-01-03T16:04:25.153952",
     "status": "completed"
    },
    "tags": []
   },
   "outputs": [],
   "source": [
    "# Clean the test data\n",
    "X_test = data_cleaner(test_data)\n",
    "\n",
    "# Make prediction for test data\n",
    "y_test = xg_pipeline.predict(X_test)\n",
    "y_test = y_test.astype(bool) # convert 1/0 to True/False\n",
    "submission = pd.DataFrame({'PassengerId': test_data['PassengerId'],\n",
    "                           'Transported': y_test\n",
    "                          })\n",
    "\n",
    "# Save\n",
    "submission.to_csv('submission.csv', index=False)"
   ]
  },
  {
   "cell_type": "code",
   "execution_count": 8,
   "id": "68d18640",
   "metadata": {
    "execution": {
     "iopub.execute_input": "2024-01-03T16:04:25.203900Z",
     "iopub.status.busy": "2024-01-03T16:04:25.203586Z",
     "iopub.status.idle": "2024-01-03T16:04:25.230205Z",
     "shell.execute_reply": "2024-01-03T16:04:25.229312Z"
    },
    "papermill": {
     "duration": 0.033179,
     "end_time": "2024-01-03T16:04:25.232379",
     "exception": false,
     "start_time": "2024-01-03T16:04:25.199200",
     "status": "completed"
    },
    "tags": []
   },
   "outputs": [
    {
     "data": {
      "text/html": [
       "<div>\n",
       "<style scoped>\n",
       "    .dataframe tbody tr th:only-of-type {\n",
       "        vertical-align: middle;\n",
       "    }\n",
       "\n",
       "    .dataframe tbody tr th {\n",
       "        vertical-align: top;\n",
       "    }\n",
       "\n",
       "    .dataframe thead th {\n",
       "        text-align: right;\n",
       "    }\n",
       "</style>\n",
       "<table border=\"1\" class=\"dataframe\">\n",
       "  <thead>\n",
       "    <tr style=\"text-align: right;\">\n",
       "      <th></th>\n",
       "      <th>PassengerId</th>\n",
       "      <th>Transported</th>\n",
       "    </tr>\n",
       "  </thead>\n",
       "  <tbody>\n",
       "    <tr>\n",
       "      <th>0</th>\n",
       "      <td>0013_01</td>\n",
       "      <td>True</td>\n",
       "    </tr>\n",
       "    <tr>\n",
       "      <th>1</th>\n",
       "      <td>0018_01</td>\n",
       "      <td>False</td>\n",
       "    </tr>\n",
       "    <tr>\n",
       "      <th>2</th>\n",
       "      <td>0019_01</td>\n",
       "      <td>True</td>\n",
       "    </tr>\n",
       "    <tr>\n",
       "      <th>3</th>\n",
       "      <td>0021_01</td>\n",
       "      <td>True</td>\n",
       "    </tr>\n",
       "    <tr>\n",
       "      <th>4</th>\n",
       "      <td>0023_01</td>\n",
       "      <td>True</td>\n",
       "    </tr>\n",
       "    <tr>\n",
       "      <th>...</th>\n",
       "      <td>...</td>\n",
       "      <td>...</td>\n",
       "    </tr>\n",
       "    <tr>\n",
       "      <th>4272</th>\n",
       "      <td>9266_02</td>\n",
       "      <td>True</td>\n",
       "    </tr>\n",
       "    <tr>\n",
       "      <th>4273</th>\n",
       "      <td>9269_01</td>\n",
       "      <td>False</td>\n",
       "    </tr>\n",
       "    <tr>\n",
       "      <th>4274</th>\n",
       "      <td>9271_01</td>\n",
       "      <td>True</td>\n",
       "    </tr>\n",
       "    <tr>\n",
       "      <th>4275</th>\n",
       "      <td>9273_01</td>\n",
       "      <td>True</td>\n",
       "    </tr>\n",
       "    <tr>\n",
       "      <th>4276</th>\n",
       "      <td>9277_01</td>\n",
       "      <td>False</td>\n",
       "    </tr>\n",
       "  </tbody>\n",
       "</table>\n",
       "<p>4277 rows × 2 columns</p>\n",
       "</div>"
      ],
      "text/plain": [
       "     PassengerId  Transported\n",
       "0        0013_01         True\n",
       "1        0018_01        False\n",
       "2        0019_01         True\n",
       "3        0021_01         True\n",
       "4        0023_01         True\n",
       "...          ...          ...\n",
       "4272     9266_02         True\n",
       "4273     9269_01        False\n",
       "4274     9271_01         True\n",
       "4275     9273_01         True\n",
       "4276     9277_01        False\n",
       "\n",
       "[4277 rows x 2 columns]"
      ]
     },
     "execution_count": 8,
     "metadata": {},
     "output_type": "execute_result"
    }
   ],
   "source": [
    "pd.read_csv('/kaggle/working/submission.csv')"
   ]
  },
  {
   "cell_type": "code",
   "execution_count": null,
   "id": "2dde9b7d",
   "metadata": {
    "papermill": {
     "duration": 0.003682,
     "end_time": "2024-01-03T16:04:25.240072",
     "exception": false,
     "start_time": "2024-01-03T16:04:25.236390",
     "status": "completed"
    },
    "tags": []
   },
   "outputs": [],
   "source": []
  }
 ],
 "metadata": {
  "kaggle": {
   "accelerator": "none",
   "dataSources": [
    {
     "databundleVersionId": 3220602,
     "sourceId": 34377,
     "sourceType": "competition"
    }
   ],
   "dockerImageVersionId": 30474,
   "isGpuEnabled": false,
   "isInternetEnabled": true,
   "language": "python",
   "sourceType": "notebook"
  },
  "kernelspec": {
   "display_name": "Python 3",
   "language": "python",
   "name": "python3"
  },
  "language_info": {
   "codemirror_mode": {
    "name": "ipython",
    "version": 3
   },
   "file_extension": ".py",
   "mimetype": "text/x-python",
   "name": "python",
   "nbconvert_exporter": "python",
   "pygments_lexer": "ipython3",
   "version": "3.10.10"
  },
  "papermill": {
   "default_parameters": {},
   "duration": 22.994766,
   "end_time": "2024-01-03T16:04:26.164908",
   "environment_variables": {},
   "exception": null,
   "input_path": "__notebook__.ipynb",
   "output_path": "__notebook__.ipynb",
   "parameters": {},
   "start_time": "2024-01-03T16:04:03.170142",
   "version": "2.4.0"
  }
 },
 "nbformat": 4,
 "nbformat_minor": 5
}
